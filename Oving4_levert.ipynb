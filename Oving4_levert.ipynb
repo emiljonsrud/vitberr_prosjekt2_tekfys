{
 "cells": [
  {
   "cell_type": "markdown",
   "metadata": {},
   "source": [
    "# Øving 4, TMA4320\n",
    "\n",
    "* **Veiledning:** Torsdag 10.15-12.00 og fredag 08.15-10.00 i R73 og på Zoom. \n",
    "* **Innleveringsfrist:** Mandag 28.02, kl. 23.59.\n",
    "* **Innleveringsmetode** Følgende to krav er nødvendig for godkjenning\n",
    "    1. Opplasting av Jupyter Notebook (individuelt) i Blackboard\n",
    "    2. Svare på skjema med kontrollspørsmål i Blackboard (alle spørsmålene må være riktig besvart for godkjenning)\n",
    "    \n",
    "Før du starter, gå gjennom notatet: \n",
    "\n",
    "* [Numerical solution of ordinary differential equations](http://www.math.ntnu.no/emner/TMA4320/2022v/notebooks/ODE.ipynb) "
   ]
  },
  {
   "cell_type": "code",
   "execution_count": 4,
   "metadata": {},
   "outputs": [],
   "source": [
    "%matplotlib inline\n",
    "\n",
    "import numpy as np\n",
    "import time\n",
    "from math import factorial\n",
    "import matplotlib.pyplot as plt\n",
    "newparams = {'figure.figsize': (8.0, 4.0), 'axes.grid': True,\n",
    "             'lines.markersize': 8, 'lines.linewidth': 2,\n",
    "             'font.size': 14}\n",
    "plt.rcParams.update(newparams)"
   ]
  },
  {
   "cell_type": "markdown",
   "metadata": {},
   "source": [
    "I denne oppgaven skal du skrive en adaptiv løser for ordinære differensialligninger, basert på Bogacki-Shampine-paret\n",
    "$$\n",
    "\\begin{array}{c|cccccl}\n",
    "    0 & 0 \\\\ \n",
    "    1/2 & 1/2  \\\\ \n",
    "    3/4 & 0 & 3/4 \\\\ \n",
    "    1 & 2/9 & 1/3 & 4/9 \\\\ \\hline\n",
    "       & 2/9 & 1/3 & 4/9 & 0  & & \\quad & Metode 1 \\\\ \\hline\n",
    "       & 7/24 & 1/4 & 1/3 & 1/8 & &  & Metode 2 \n",
    "   \\end{array}\n",
    "$$\n",
    "\n",
    "\n",
    "\n",
    "\n",
    "# Oppgave 1\n",
    "Bruk ordensbetingelsene i notatet til å bestemme ordenen til de to metodene. \n",
    "\n",
    "**Kontrollspørsmål 1** Hva er ordenen til metode 1.\n",
    "\n",
    "**Kontrollspørsmål 2** Hva er ordenen til metode 2. \n",
    "\n",
    "**Kontrollspørsmål 3-4** Diverse spørsmål om feilestimering.\n",
    "\n",
    "Det er løsningen fra Metode 1 som brukes for å beregne $\\mathbf{y}_{n+1}$, Metode 2 er for feilestimering. \n",
    "\n",
    "Bogacki-Shampines metode kan implementeres effektivt, ved å utnytte det faktum at $k_4$ i et steg er det samme som $k_1$ i det neste (hvorfor). \n",
    "Denne egenskapen kalles ofte FSAL (first same as last). \n"
   ]
  },
  {
   "cell_type": "markdown",
   "metadata": {},
   "source": [
    "## SVAR: Oppgave1\n",
    "\n",
    "Metode 1 har en orden på 3, ettersom betingelsen på \n",
    "$$\n",
    "    \\sum_{i}^{s} b_i c_j^3 = \\frac{1}{4}\n",
    "$$\n",
    "ikke oppfylles (som er nødvending for orden 4). \n",
    "\n",
    "Metode to feiler på betingelsen: \n",
    "$$\n",
    "    \\sum_{i}^{s} b_i c_i^2 = \\frac{1}{4} \n",
    "$$\n",
    "\n",
    "**Oppsummert svar:** <br>\n",
    "Kontrollspørsmål 1: 3<br>\n",
    "Kontrollspørsmål 1: 2\n",
    "<br>\n",
    "<br>\n",
    "<br>\n",
    "<br>\n"
   ]
  },
  {
   "cell_type": "code",
   "execution_count": 23,
   "metadata": {},
   "outputs": [],
   "source": [
    "'''Variabel skrittlengde impementasjon bygd på innbygd par av orden (3,2) - Bogacki og Shampine'''\n",
    "def bogshamp_step(f, x, y, h):\n",
    "    '''\n",
    "    Ett steg av bogshamp metoden.\n",
    "    '''\n",
    "    # Holder en systematisk oversikt over alle koeffisientene\n",
    "    a_21 = 1/2\n",
    "    a_31 = 0\n",
    "    a_32 = 3/4\n",
    "    a_41 = 2/9\n",
    "    a_42 = 1/3\n",
    "    a_43 = 4/9\n",
    "    \n",
    "    k_1 = f(x, y)\n",
    "    k_2 = f(x + 0.50*h, y + h*(a_21*k_1) )\n",
    "    k_3 = f(x + 0.75*h, y + h*(a_31*k_1 + a_32*k_2) )\n",
    "    \n",
    "    y_new1 = y + h*(2/9*k_1 + 1/3*k_2 + 4/9*k_3)\n",
    "   \n",
    "    k_4 = f(x + h, y_new1)\n",
    "    y_new2 = y + h*(7/24*k_1 + 1/4*k_2 + 1/3*k_3 + 1/8*k_4)    \n",
    "\n",
    "    \n",
    "    err_est = np.linalg.norm( y_new1 - y_new2, np.inf )\n",
    "    \n",
    "    x_next = x + h\n",
    "    return x_next, y_new1, err_est\n",
    "    "
   ]
  },
  {
   "cell_type": "code",
   "execution_count": 33,
   "metadata": {},
   "outputs": [],
   "source": [
    "    \n",
    "\n",
    "def bogshamp(t_0, t_end, y_0, f, h_0, tol):\n",
    "    \n",
    "    # This will be used to store the sollutions _y_ and corresponding \n",
    "    # x-values.\n",
    "    t_num = np.array([t_0])\n",
    "    y_num = np.array([y_0])\n",
    "    \n",
    "    # Set the running values\n",
    "    t_n = t_0\n",
    "    y_n = y_0\n",
    "    h = h_0\n",
    "    \n",
    "    max_f_calls = 1e5\n",
    "    current_f_calls = 0\n",
    "    \n",
    "    \n",
    "    time_start = time.time()\n",
    "    time_intervall = time.time()\n",
    "    # Calculate y's using the method:\n",
    "    \n",
    "    while t_n < t_end-1e-10: # take truncation error into account        \n",
    "        if abs(time.time()-time_intervall) >= 5:\n",
    "            print(f'Time: {time.time()-time_start:.2f}.'\n",
    "                + f' Progress along x-axis: {(t_n-t_0)/(t_end-t_0)*100:.2f}%\\n\\n')\n",
    "            time_intervall = time.time()\n",
    "        \n",
    "        if t_n + h > t_end:\n",
    "            h = t_end-t_n\n",
    "            \n",
    "        # One step with the method:\n",
    "        t_try, y_try, err_est = bogshamp_step(f, t_n, y_n, h)\n",
    "        current_f_calls += 1\n",
    "        \n",
    "        if err_est <= tol:\n",
    "            # Use the solution\n",
    "            t_n = t_try\n",
    "            y_n = y_try\n",
    "            \n",
    "            # Store the solutions\n",
    "            t_num = np.append(t_num, t_n)           \n",
    "            y_num = np.concatenate((y_num, np.array([y_n])))\n",
    "            \n",
    "        \n",
    "        # Adjust the step size, start by defining facors\n",
    "        P = 0.9 # Pessismist facor, normally between 0.5 and 0.95\n",
    "        p = 2 # Order of the bogshamp method\n",
    "        \n",
    "        h = P*( (tol/err_est)**(1/(p+1)) )*h\n",
    "        \n",
    "        \n",
    "        # If maximum allowed function calles are reached, the program\n",
    "        # is halted, and a message is printed\n",
    "        if current_f_calls >= max_f_calls:\n",
    "            print('Maximum number of function calls are reached.')\n",
    "            return t_num, y_num\n",
    "        \n",
    "        \n",
    "    # Some diagnostic output\n",
    "    print(f'NUmber of steps: {current_f_calls-1:4d} ')\n",
    "    print(f'Number of function calls = {current_f_calls*3:4d}')\n",
    "    print(f'Number of rejected steps = {current_f_calls-len(t_num)+1:4d}')\n",
    "    return t_num, y_num"
   ]
  },
  {
   "cell_type": "markdown",
   "metadata": {},
   "source": [
    "# Oppgave 2\n",
    "Skriv en adaptiv ODE-løser basert på Bogacki-Shampines metode.\n",
    "For å få full utntyttelse av FSAL-egenskapen anbefales det at du skriver koden selv fra begynnelsen av, ikke bare kopiere fra notatet. \n",
    "\n",
    "Test løseren din på problemet\n",
    "\n",
    "$$\n",
    "u'=v,\\ v'=-4u,\\quad u(0)=1,\\ v(0)=0,\\ [x_0,x_{end}]=[0,2\\pi]\n",
    "$$\n",
    "\n",
    "som har eksakt løsning $u(x)=\\cos 2x$ og $v(x)=-2\\sin 2x$. \n",
    "\n",
    "\n"
   ]
  },
  {
   "cell_type": "code",
   "execution_count": 34,
   "metadata": {},
   "outputs": [
    {
     "name": "stdout",
     "output_type": "stream",
     "text": [
      "NUmber of steps:  199 \n",
      "Number of function calls =  600\n",
      "Number of rejected steps =    1\n"
     ]
    },
    {
     "data": {
      "image/png": "[encoded data removed]",
      "text/plain": [
       "<Figure size 576x288 with 1 Axes>"
      ]
     },
     "metadata": {
      "needs_background": "light"
     },
     "output_type": "display_data"
    }
   ],
   "source": [
    "# oppgave 2 utføres her\n",
    "\n",
    "def opg2():\n",
    "    # Define the function of the form f(x, y) = y'(x) = y + g(x),\n",
    "    # where y is a vector of y's\n",
    "    f = lambda x, y: np.array([\n",
    "        y[1],\n",
    "        -4*y[0]\n",
    "    ])\n",
    "    \n",
    "    # Initial values\n",
    "    y_0 = np.array([1, 0], dtype='float64')\n",
    "    t_0, t_end = 0, 2*np.pi\n",
    "    h_0 = 0.1\n",
    "    tol = 1e-5\n",
    "    \n",
    "    \n",
    "    x, y = bogshamp(t_0, t_end, y_0, f, h_0, tol)\n",
    "    plt.plot(x, y)\n",
    "    plt.show()\n",
    "    \n",
    "opg2()    \n",
    "        "
   ]
  },
  {
   "cell_type": "markdown",
   "metadata": {},
   "source": [
    "\n",
    "\n",
    "# **Oppgave 3**\n",
    "Anvend rutinen på Brusselator-problemet nedenfor. Sett pessimistfaktor $P=0.9$, bruk\n",
    "$x_0=0$, $x_{end}=20$, og $tol=10^{-5}$. La $h_0=0.1$.\n",
    "\n",
    "\\begin{align*}\n",
    "u' &= 1 + u^2 v - 4 u, & u(0)&=1 \\\\\n",
    "v' &= 3u - u^2 v,  & v(0)&=2.9\n",
    "\\end{align*}\n",
    "\n",
    "Lag et plott som viser hver av løsningskomponentene som funksjon av $t$ (i samme plott)\n",
    "Suppler med et plott rett under dette som viser hvordan skrittlengden varierer med $t$.\n",
    "Her kan det være nyttig å bruke numpy-funksjonen *diff*.\n",
    "\n",
    "**Kontrollspørsmål 5-7** Du blir her bedt om å rapportere statistikk fra eksperimentet i Oppgave 3.\n",
    "Antall skritt koden din bruker, antall funksjonsevalueringer (feval) og antall forkastede skritt.\n",
    "*NB!* Bruk FSAL-egenskapen, ellers får du gale svar. "
   ]
  },
  {
   "cell_type": "code",
   "execution_count": 2,
   "metadata": {},
   "outputs": [
    {
     "ename": "NameError",
     "evalue": "name 'np' is not defined",
     "output_type": "error",
     "traceback": [
      "\u001b[0;31m---------------------------------------------------------------------------\u001b[0m",
      "\u001b[0;31mNameError\u001b[0m                                 Traceback (most recent call last)",
      "\u001b[0;32m<ipython-input-2-1c5c949622e0>\u001b[0m in \u001b[0;36m<module>\u001b[0;34m\u001b[0m\n\u001b[1;32m     21\u001b[0m     \u001b[0mplt\u001b[0m\u001b[0;34m.\u001b[0m\u001b[0mshow\u001b[0m\u001b[0;34m(\u001b[0m\u001b[0;34m)\u001b[0m\u001b[0;34m\u001b[0m\u001b[0;34m\u001b[0m\u001b[0m\n\u001b[1;32m     22\u001b[0m     \u001b[0mplt\u001b[0m\u001b[0;34m.\u001b[0m\u001b[0mplot\u001b[0m\u001b[0;34m(\u001b[0m\u001b[0mx\u001b[0m\u001b[0;34m,\u001b[0m \u001b[0mnp\u001b[0m\u001b[0;34m.\u001b[0m\u001b[0mdiff\u001b[0m\u001b[0;34m(\u001b[0m\u001b[0mx\u001b[0m\u001b[0;34m,\u001b[0m \u001b[0mprepend\u001b[0m\u001b[0;34m=\u001b[0m\u001b[0;36m0\u001b[0m\u001b[0;34m)\u001b[0m \u001b[0;34m)\u001b[0m\u001b[0;34m\u001b[0m\u001b[0;34m\u001b[0m\u001b[0m\n\u001b[0;32m---> 23\u001b[0;31m \u001b[0mopg3\u001b[0m\u001b[0;34m(\u001b[0m\u001b[0;34m)\u001b[0m\u001b[0;34m\u001b[0m\u001b[0;34m\u001b[0m\u001b[0m\n\u001b[0m",
      "\u001b[0;32m<ipython-input-2-1c5c949622e0>\u001b[0m in \u001b[0;36mopg3\u001b[0;34m()\u001b[0m\n\u001b[1;32m     11\u001b[0m \u001b[0;34m\u001b[0m\u001b[0m\n\u001b[1;32m     12\u001b[0m     \u001b[0;31m# Initial values\u001b[0m\u001b[0;34m\u001b[0m\u001b[0;34m\u001b[0m\u001b[0;34m\u001b[0m\u001b[0m\n\u001b[0;32m---> 13\u001b[0;31m     \u001b[0my_0\u001b[0m \u001b[0;34m=\u001b[0m \u001b[0mnp\u001b[0m\u001b[0;34m.\u001b[0m\u001b[0marray\u001b[0m\u001b[0;34m(\u001b[0m\u001b[0;34m[\u001b[0m\u001b[0;36m1\u001b[0m\u001b[0;34m,\u001b[0m \u001b[0;36m2.9\u001b[0m\u001b[0;34m]\u001b[0m\u001b[0;34m,\u001b[0m \u001b[0mdtype\u001b[0m\u001b[0;34m=\u001b[0m\u001b[0;34m'float64'\u001b[0m\u001b[0;34m)\u001b[0m\u001b[0;34m\u001b[0m\u001b[0;34m\u001b[0m\u001b[0m\n\u001b[0m\u001b[1;32m     14\u001b[0m     \u001b[0mt_0\u001b[0m\u001b[0;34m,\u001b[0m \u001b[0mt_end\u001b[0m \u001b[0;34m=\u001b[0m \u001b[0;36m0\u001b[0m\u001b[0;34m,\u001b[0m \u001b[0;36m20\u001b[0m\u001b[0;34m\u001b[0m\u001b[0;34m\u001b[0m\u001b[0m\n\u001b[1;32m     15\u001b[0m     \u001b[0mh_0\u001b[0m \u001b[0;34m=\u001b[0m \u001b[0;36m0.1\u001b[0m\u001b[0;34m\u001b[0m\u001b[0;34m\u001b[0m\u001b[0m\n",
      "\u001b[0;31mNameError\u001b[0m: name 'np' is not defined"
     ]
    }
   ],
   "source": [
    "# Oppgave 3 besvares her\n",
    "\n",
    "\n",
    "def opg3():\n",
    "    # Define the function of the form f(x, y) = y'(x) = y + g(x),\n",
    "    # where y is a vector of y's\n",
    "    f = lambda x, y: np.array([\n",
    "        1+y[0]**2*y[1]-4*y[0], \n",
    "        3*y[0]-y[0]**2*y[1]\n",
    "    ])\n",
    "    \n",
    "    # Initial values\n",
    "    y_0 = np.array([1, 2.9], dtype='float64')\n",
    "    t_0, t_end = 0, 20\n",
    "    h_0 = 0.1\n",
    "    tol = 1e-5\n",
    "    \n",
    "    \n",
    "    x, y = bogshamp(t_0, t_end, y_0, f, h_0, tol)\n",
    "    plt.plot(x, y)\n",
    "    plt.show()\n",
    "    plt.plot(x, np.diff(x, prepend=0) )\n",
    "opg3()  "
   ]
  },
  {
   "cell_type": "code",
   "execution_count": null,
   "metadata": {},
   "outputs": [],
   "source": []
  },
  {
   "cell_type": "code",
   "execution_count": null,
   "metadata": {},
   "outputs": [],
   "source": []
  }
 ],
 "metadata": {
  "kernelspec": {
   "display_name": "Python 3",
   "language": "python",
   "name": "python3"
  },
  "language_info": {
   "codemirror_mode": {
    "name": "ipython",
    "version": 3
   },
   "file_extension": ".py",
   "mimetype": "text/x-python",
   "name": "python",
   "nbconvert_exporter": "python",
   "pygments_lexer": "ipython3",
   "version": "3.9.2"
  },
  "toc": {
   "base_numbering": 1,
   "nav_menu": {},
   "number_sections": true,
   "sideBar": true,
   "skip_h1_title": true,
   "title_cell": "Table of Contents",
   "title_sidebar": "Contents",
   "toc_cell": false,
   "toc_position": {},
   "toc_section_display": true,
   "toc_window_display": false
  }
 },
 "nbformat": 4,
 "nbformat_minor": 4
}
