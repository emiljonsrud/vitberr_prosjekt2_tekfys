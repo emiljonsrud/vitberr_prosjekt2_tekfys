{
 "cells": [
  {
   "cell_type": "markdown",
   "id": "f145c36f",
   "metadata": {},
   "source": [
    "# 4 ...\n",
    "\n",
    "## 4.1 Implementasjon av ny numerisk metode\n",
    "\n",
    "Så langt har vi kun benytten oss av den Eulers metode og fjerde ordens Runge-Kutta, men dette er langt ifra de eneste ODE-løserene som eksisterer. Vi vil nå implementere en annen ODE-løser, nemlig Heuns metode, og samenlikne hvordan denne skiller seg fra de to andre metodene. Det er ingen spesifikk grunn for hvorfor vi valgte nettopp Heuns-metode, men den var interessant fordi den er en mellomting mellom de to tidligere benyttede metodene. Dette er ettersom Heuns er en andreordens metode, og kan sees på som en forbedring av Eulers metode. Likevel er den av lavere orden enn Runge-Kutta, hvilket gjør at vi kan forvente at den gir noe mindre unøyaktige resultater.\n",
    "\n",
    "Matematisk kan vi definere metoden med inkrement-funksjonen\n",
    "$$\n",
    "    \\Phi(x, \\textbf{y};h) = \\frac{1}{2}(\\textbf{f}(x,\\textbf{y}) + \\textbf{f}(x + h,\\textbf{y} + h\\textbf{f}(x, \\textbf{y})))\n",
    "$$\n",
    "\n",
    "For å implementere Huns metode forstetter vi å benytte `solve_ODE`-funksjonen fra tidligere, men må definere en ny `heun_step()`-funksjon. I likhet med slik vi gjorde for Euler og Runge-Kutta skriver vi en funksjon som beregner ett steg av Heuns-metode."
   ]
  },
  {
   "cell_type": "code",
   "execution_count": 1,
   "id": "9eaf1507",
   "metadata": {},
   "outputs": [],
   "source": [
    "def heun_step(f, t, w, h_step):\n",
    "    '''\n",
    "    Tar inn en vektor-funksjon på formen w = [theta(t), omega(t)], med nåværende tid (t) og \n",
    "    tilstand (w), og regner ut ett Heun-steg.\n",
    "    Inn:\n",
    "        f: s-array, som beskriver et system av førsteordens diff-ligninger.\n",
    "        t: float, nåvernde tid\n",
    "        w: s-array, som beskriver systemet\n",
    "        h_step: steglengde\n",
    "    Ut:\n",
    "        t_new: neste tidssteg (t+h_step)\n",
    "        w_new: systemet etter ett beregnet tidssteg    \n",
    "    '''\n",
    "    k1 = f(t, w)\n",
    "    k2 = f(t+h_step, w+h_step*k1)\n",
    "    w_new = w + 0.5*h_step*(k1 + k2)\n",
    "    return t+h_step, w_new"
   ]
  },
  {
   "cell_type": "markdown",
   "id": "2ad59ae2",
   "metadata": {},
   "source": [
    "For å teste den nye ODE-løseren er planen vår å benytte den til å løse et problem knyttet til skipets stabilitet, for å så sammenlikne disse resultatene med hva vi hadde fått dersom vi løste samme problem med en av de andre metodene. La oss nå finne et nytt simulasjons-problem som kan være interressant å studere.\n",
    "\n",
    "\n",
    "## 4.2 Mannskap\n",
    "\n",
    "Frem til nå har vi modellert Vasaskipet med bevegelig last, men vi vet også at da skipet forlot havna i Stockholm hadde den også et stort mannskap på hele 450 personer (i følge SNL). Å simulere skipet uten et mannskap er kanskje en av de goveste forenklingene som har blitt begått gjennom hele prosjektet. Derfor velger vi nå å introdusere passasjerer, og undersøke hvordan de påvirker skipets dynamikk.\n",
    "\n",
    "Vi vil simulere et mannskap gjennom at vi har en jevnt fordelt masse langs hele dekket. Dersom vi antar at alle i mannskapet veier like mye og står like langt unna hverandre kan den totale passasjermassen kan da beskrives som en punktmasse på dekketes midpunkt . Vi anntar også at passasjerene har rikelig med friksjon, noe som medfører at de står stødt uten å bevege seg parallelt med dekket. \n",
    "\n",
    "La oss se for oss en situasjon hvor hele mannskapet hopper opp og den med sammen frekvens, kanskje de for eksempel er fornøyde med å nettopp ha sjøsatt sin flunkende nye båt. Hvordan blir Vasaskipets dynamikk påvirket av dette? Og enda mer interessant - hva skjer dersom mannskapet hopper med samme frekvens som en av skipets egenfrekvenser?\n",
    "\n",
    "### 4.2.1 Nye krefter (kopier det som Emil har skrevet)\n",
    "\n",
    "...\n",
    "\n",
    "\n",
    "..."
   ]
  },
  {
   "cell_type": "markdown",
   "id": "6af0ae90",
   "metadata": {},
   "source": [
    "Moddele"
   ]
  },
  {
   "cell_type": "markdown",
   "id": "b9fe563a",
   "metadata": {},
   "source": []
  },
  {
   "cell_type": "code",
   "execution_count": null,
   "id": "df5d5bf6",
   "metadata": {},
   "outputs": [],
   "source": []
  },
  {
   "cell_type": "code",
   "execution_count": null,
   "id": "26c962e1",
   "metadata": {},
   "outputs": [],
   "source": []
  },
  {
   "cell_type": "code",
   "execution_count": null,
   "id": "9f6696d8",
   "metadata": {},
   "outputs": [],
   "source": []
  }
 ],
 "metadata": {
  "kernelspec": {
   "display_name": "Python 3 (ipykernel)",
   "language": "python",
   "name": "python3"
  },
  "language_info": {
   "codemirror_mode": {
    "name": "ipython",
    "version": 3
   },
   "file_extension": ".py",
   "mimetype": "text/x-python",
   "name": "python",
   "nbconvert_exporter": "python",
   "pygments_lexer": "ipython3",
   "version": "3.9.7"
  }
 },
 "nbformat": 4,
 "nbformat_minor": 5
}
