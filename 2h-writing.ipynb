{
 "cells": [
  {
   "cell_type": "markdown",
   "id": "2aa7ab99",
   "metadata": {},
   "source": [
    "# 4 ...\n",
    "\n",
    "## 4.1 Implementasjon av ny numerisk metode\n",
    "\n",
    "Så langt har vi kun benytten oss av den Eulers metode og fjerde ordens Runge-Kutta, men dette er langt ifra de eneste ODE-løserene som eksisterer. Vi vil nå implementere en annen ODE-løser, nemlig Heuns metode, og samenlikne hvordan denne skiller seg fra de to andre metodene. Det er ingen spesifikk grunn for hvorfor vi valgte nettopp Heuns-metode, men den var interessant fordi den er en mellomting mellom de to tidligere benyttede metodene. Dette er ettersom Heuns er en andreordens metode, og kan sees på som en forbedring av Eulers metode. Likevel er den av lavere orden enn Runge-Kutta, hvilket gjør at vi kan forvente at den gir noe mindre unøyaktige resultater.\n",
    "\n",
    "Matematisk kan vi definere metoden med inkrement-funksjonen\n",
    "$$\n",
    "    \\Phi(x, \\textbf{y};h) = \\frac{1}{2}(\\textbf{f}(x,\\textbf{y}) + \\textbf{f}(x + h,\\textbf{y} + h\\textbf{f}(x, \\textbf{y})))\n",
    "$$\n",
    "\n",
    "For å implementere Huns metode forstetter vi å benytte `solve_ODE`-funksjonen fra tidligere, men må definere en ny `heun_step()`-funksjon. I likhet med slik vi gjorde for Euler og Runge-Kutta skriver vi en funksjon som beregner ett steg av Heuns-metode."
   ]
  },
  {
   "cell_type": "code",
   "execution_count": 1,
   "id": "25b17647",
   "metadata": {},
   "outputs": [],
   "source": [
    "def heun_step(f, t, w, h_step):\n",
    "    '''\n",
    "    Tar inn en vektor-funksjon på formen w = [theta(t), omega(t)], med nåværende tid (t) og \n",
    "    tilstand (w), og regner ut ett Heun-steg.\n",
    "    Inn:\n",
    "        f: s-array, som beskriver et system av førsteordens diff-ligninger.\n",
    "        t: float, nåvernde tid\n",
    "        w: s-array, som beskriver systemet\n",
    "        h_step: steglengde\n",
    "    Ut:\n",
    "        t_new: neste tidssteg (t+h_step)\n",
    "        w_new: systemet etter ett beregnet tidssteg    \n",
    "    '''\n",
    "    k1 = f(t, w)\n",
    "    k2 = f(t+h_step, w+h_step*k1)\n",
    "    w_new = w + 0.5*h_step*(k1 + k2)\n",
    "    return t+h_step, w_new"
   ]
  },
  {
   "cell_type": "markdown",
   "id": "6a040ccf",
   "metadata": {},
   "source": [
    "For å teste den nye ODE-løseren er planen vår å benytte den til å løse et problem knyttet til skipets stabilitet, for å så sammenlikne disse resultatene med hva vi hadde fått dersom vi løste samme problem med en av de andre metodene. La oss nå finne et nytt simulasjons-problem som kan være interressant å studere.\n",
    "\n",
    "\n",
    "## 4.2 Mannskap\n",
    "\n",
    "Frem til nå har vi modellert Vasaskipet med bevegelig last, men vi vet også at da skipet forlot havna i Stockholm hadde den også et stort mannskap på hele 450 personer (i følge SNL). Å simulere skipet uten et mannskap er kanskje en av de goveste forenklingene som har blitt begått gjennom hele prosjektet. Derfor velger vi nå å introdusere passasjerer, og undersøke hvordan de påvirker skipets dynamikk.\n",
    "\n",
    "Vi vil simulere et mannskap gjennom at vi har en jevnt fordelt masse langs hele dekket. Dersom vi antar at alle i mannskapet veier like mye og står like langt unna hverandre kan den totale passasjermassen kan da beskrives som en punktmasse på dekketes midpunkt . Vi anntar også at passasjerene har rikelig med friksjon, noe som medfører at de står stødt uten å bevege seg parallelt med dekket. \n",
    "\n",
    "La oss se for oss en situasjon hvor hele mannskapet hopper opp og den med sammen frekvens, kanskje de for eksempel er fornøyde med å nettopp ha sjøsatt sin flunkende nye båt. Hvordan blir Vasaskipets dynamikk påvirket av dette? Og enda mer interessant - hva skjer dersom mannskapet hopper med samme frekvens som en av skipets egenfrekvenser?\n",
    "\n",
    "### 4.2.1 Nye krefter (kopier det som Emil har skrevet)\n",
    "\n",
    "...\n",
    "\n",
    "\n",
    "..."
   ]
  },
  {
   "cell_type": "markdown",
   "id": "05c65ba6",
   "metadata": {},
   "source": [
    "In this paper, we have utilized the Monte Carlo-algorithm to simulate the formation of membrane-less organelles in systems consisting of polymers - which again are composed out of oppositely charged monomers.\n",
    "\n",
    "We have shown that for lower temperatures, monomers more easily form into larger polymers than they do for higher temperature-values, but take a longer time to reach equilibrium. This is because of thermal fluctuations, where a higher temperature leads to a higher probability for random movements and fluctuations to occur. The higher temperature will also result in the monomers forming smaller clusters that they do for lower temperatures, as they more easily can reduce their energy by forming bonds to monomers with the opposite charge.\n",
    "\n",
    "After observing that monomers cluster together to minimize energy, we introduced monomer connectivity. When monomers form covalent bonds, they act as a unit, called polymers. The aggregate formation of these clusters were then observed after running a Monte Carlo simulation. However, simply up-scaling the movement of single monomers did not yield viable results, as their ability to interact with each other was impaired. Hence we had introduced a new way of movement, which opened for flexible polymers that clustered together.\n",
    "\n",
    "We were interested in the phenomena of clustering polymers, so we investigated how their size affected the clustering. We were specifically interested in the normalized mean cluster size and number of clusters. As we already had an effective way of simulating the biological systems of polymers, we did a number of simulations. Where we sampled and measured these quantities. An increasing polymer size resulted in a steady increase of the polymers normalized mean cluster size.\n",
    "\n",
    "Overall this project has given an interesting insight into formation of biological structures, and ways to model them using numerical methods. It has been useful to experience the fact that the theories from electromagnetism have such an impact in the field of biology, and see a practical example of how these two disciplines can be used together to achieve a deeper understanding of our physical world."
   ]
  },
  {
   "cell_type": "markdown",
   "id": "1abeecb8",
   "metadata": {},
   "source": [
    "# 5.0 Konklusjon\n",
    "\n",
    "I dette projektet har vi benyttet tre ulike numeriske metoder - Euler, Runge-Kutta og Heun(?)- for å simulere bevegelsen og dynamikken til Vasaskipet under et rekke ulike forhold. \n",
    "\n",
    "Vi har første sett at dersom vi antar at mengden fortrengt vann $A$ er konstant og det ikke er noen friksjon mellom vannet og båten, vil størrelser som $\\theta$ og $y$ oscillere harmonisk rundt et likvektspunkt. Likevel dersom vi velger å løse differensiallikningen med Eulers metode, vil vi oppleve at oscillasjonenes amplitude øker med tiden, hvilket ikke er realistisk oppførsel. Dette tyder på at det i slike tilfeller vil være nødvendig med mer avanserte løsere av høyere orden.\n",
    "\n",
    "Dersom vi benytter småvinkelapproksimasjon, som ble testet og vist at var en rimelig tilnærming for små vinkler, skal vi finne en analytisk løsning som beskriver vinkelutslaget til systemet beskrevet i forrige avsnitt. Gjennom å sammenlikne våre resultater ved bruk av Euler- og Runge-Kutta-metodene med de analytiske, kunne vi teste og sammenlikne disse to metodene. Som forventet ga Runge-Kutta-metoden en lavere feil, særlig for lavere steglengder. For svært lave steglengder så vi også at ved bruk av Runge-Kutta nådde vi nærmest feil på størrelse med maskinpresisjonen, hvilket vi ikke var i nærheten av med Euler-metoden.\n",
    "\n",
    "Etter nøye sammenlikning av de to metodene forsatte vi med å simulere et mer avansert system gjennom å benytte Runge-Kutta-metoden. I dette nye systemet ville mengden fortrengt vann $A$ ikke lengre være konstant, noe som førte til mer interessante og realistiske bevegelser. Gjennom den nye simulasjonen kunne vi også ikke kun simulere gravitasjon og oppdrift, men også en friksjonskraft og en harmonisk kraft fra bølger. Vi obersverte at når vi antok at det var friksjon mellom vannet og skipets skrog ville dette bruke opp energien i systement, hvilket resulterte i dempede svingninger der dempingen ble avgjort av friksjonskoeffesienten $k_{f}$. Et annet insteressant fenomen vi obsertverte var sveving, som oppsto når vi hadde bølger som traff Vasaskipet med en frekvens nære skipets egenfrekvens. Dette resulterte i at skipet gynget raskt frem og tilbake, men at gyngingsens amplitude ble modulert av en lav modulasjonsfrekvens.\n",
    "\n",
    "I tillegg til å simulere friksjon og bølger, analyserte vi også hvordan en bevegelig last kan påvirke skipets dynamikk. Imens en last med lav masse ikke vil i noen betydelig grad påvirke skipets dynamikk, kan en større masse drastisk gjøre dette og skape kaotiske og uforutsigbare bevegelser. Dersom skipet ikke har gjerder på siden av dekket observerte vi at last med lav masse rask sklir av dekket og ut i sjøen, mens last med større masse som forventet krever mer grefter for å akselereres og dermed har lettere for å bli værende på dekket. For skip med gjerder vil særlig last med stor masse utgjøre en betydelig risiko. Dersom lasten slik bort til et gjærde og blir værende der, vil den på grunn av den lange armen bidra med et stort dreiemoment som i værste fall kan føre til at skipet kantrer.\n",
    "\n",
    "Til slutt tok vi i bruk en ny numerisk metode, nemlig Heuns metode, og benyttet denne til å studere skipets dynamikk når vi simulere at Vasaskipet hadde et mannskap som alle hoppet med en viss frekvens. Gjennom å benytte en numerisk Fourier-transformasjon fant vi skipets egenfrekvenser, og observerte at dersom mannskapet hoppet med en av disse frekvensene ville det skape resonans som kunne føre til kantring. Gjennom å sammenlikne Heuns metode med Euler og Runge-Kutta, både for gjeldende simulasjon og for en av de tidligere funksjonene hvor vi kjente den analytiske løsningen, kom vi frem til at ...\n",
    "\n",
    "Alt i alt har dette projektet gitt et interessant innblikk i hvordan vi kan benytte numeriske metoder til å simulere mer avanserte fysiske systemer enn hva vi er i stand til å løse analytisk. Å kvalitativt og kvantitativt vurdere de ulike numeriske metodene opp mot hverandre har være nyttig for å få en forståelse av når de ulike metodene kan være nyttige. Bruken av slike numeriske verktøy er en sentral del av hverdagen til en moderne fysiker, så all trengning på å bruke dem vil være gunstig for tiden som kommer. I tillegg, gjennom å simulere et mange av de sentrale påvirkningskreftene som skip som Vasaskipet opplever, har vi fått enda mer innsikt i hvordan den teoretiske fysikken vi lærer manifisterer seg i praktiske eksempler fra våre omgivelser."
   ]
  },
  {
   "cell_type": "markdown",
   "id": "b5bb622e",
   "metadata": {},
   "source": []
  },
  {
   "cell_type": "code",
   "execution_count": null,
   "id": "e1594ce2",
   "metadata": {},
   "outputs": [],
   "source": []
  },
  {
   "cell_type": "code",
   "execution_count": null,
   "id": "274a758e",
   "metadata": {},
   "outputs": [],
   "source": []
  }
 ],
 "metadata": {
  "kernelspec": {
   "display_name": "Python 3 (ipykernel)",
   "language": "python",
   "name": "python3"
  },
  "language_info": {
   "codemirror_mode": {
    "name": "ipython",
    "version": 3
   },
   "file_extension": ".py",
   "mimetype": "text/x-python",
   "name": "python",
   "nbconvert_exporter": "python",
   "pygments_lexer": "ipython3",
   "version": "3.9.7"
  }
 },
 "nbformat": 4,
 "nbformat_minor": 5
}
