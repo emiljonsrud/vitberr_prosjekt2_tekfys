{
 "cells": [
  {
   "cell_type": "markdown",
   "metadata": {},
   "source": [
    "### TMA4320 - Project 2: Physics\n",
    "\n",
    "\n",
    "# 0.0 Motivasjon\n",
    "I fysikk er vi interessert i å simulere fysiske systemer for å forutse hvordan disse vil oppføre seg. For enkle systemer kan vi benytte analytiske metoder i simulasjonene, men for større og mer avanserte er vi ofte nødt til å benytte oss av numeriske tilnærminger. I dette prosjektet skal vi studere en skipsmodell - Vasaskipet, og analysere hvordan dens bevegelse og stabilitet påvirkes av ulike krefter og faktorer. \n",
    "\n",
    "For å studere skipet vil vi trenge å løse ordinære differensiallikninger (ODE), og det er flere metoder - både analytiske og numeriske - å gjøre dette på. Vi vil benytte Eulers metode og fjerde ordens Runge-Kutta, som er to svært populære numeriske metoder. Imens Runge-Kutta (RK4) er en fjerdeordens metode er Eulers metode kun av orden én, hvilket betyr at denne løsningen vil ha en lavere nøyaktighet. Vi vil studere forskjellen på disse to metodne og utforske i hvor stor grad valg av numerisk løsningsmetode påvirker resultatene i simulasjonen.\n",
    "\n",
    "Til å begynne med vil vi jobbe mer en svært enkel simulasjon preget av mange forenklinger, og så vil vi gradvis utvide denne simulasjonen til å ta hensyn til flere og flere påvikningsfaktorer. Vår simulasjon vil på ingen måte ta hensyn til alle reelle faktorer som spiller en rolle i hvordan ekte båter beveger seg, men vil likevel gi et godt innblikk i mange av de sentrale faktorene som spiller inn.  "
   ]
  },
  {
   "cell_type": "markdown",
   "metadata": {},
   "source": [
    "# 1.0 Skipsmodell\n",
    "\n",
    "### 1.1 Skipets fysiske egeskaper\n",
    "Istedet for å modellere skipet i tre dimensjoner er det hensiktsmessig å istedet se på et todimensjonalt snitt av skipet. Vår skipsmodell tar derfor utgangspunkt i et langt og halvsirkelformet skip med en radius R, som vugger om en akse i skipets lengderetning. Vi definerer skipets masse per flateenhet som $\\sigma$ og masse per lengdeenhet som $\\lambda$. I tilegg vil massesenteret ligge en lengde $h = 4R/3\\pi$ under midtpunktet på dekket. \n",
    "\n",
    "Når skipet befinner seg i vann vil det fortrenge en mengde vann, hvor vi definerer mengden fortrengt vann som $A$. I likevekt kan vi beregne mengden fortrengt vann gjennom å beytte Arkimedes lov. \n",
    "$$\n",
    "    m_{fortrengt vann} = A_0\\sigma_{0} =  \\frac{\\sigma\\pi R}{2} = m_{skip} \\Rightarrow A_{0} = \\frac{\\sigma\\pi R}{2\\sigma_{0}}\n",
    "$$\n",
    "hvor $\\sigma_{0} = 1000 kg/m^2$ er vannets massetetthet.\n",
    "\n",
    "Dersom skipet begynner å vugge og ikke lengre befinner seg i likevekt vil mengden fortrengt vann ikke lengre være forbli konstant, noe som betyr at oppdriftskraften som virker på båden vil være i en konstant endring. For å beregne hvor mye vann som blir fortrengt kan vi benytte formelen \n",
    "$$\n",
    "    A = \\frac{1}{2}R^2(\\gamma - sin\\gamma)\n",
    "$$\n",
    "hvor $\\gamma$ er sektorvinkelen og avhenger av rotasjonsvinkelen $\\theta$ og den vertikale forflytningen i forhold til likevelt $\\Delta y_{C} = y_{C} - y^0_{C}$. Sektorvinkelen kan beregnes ved å bruke den noe kompliserte formelen\n",
    "$$\n",
    "    \\gamma = 2arccos(cos(\\beta/2)-(4/3\\pi)(1-cos\\theta) + \\Delta y_{C}/R)\n",
    "$$  \n",
    "hvor $\\beta$ er sektorvinkelen ved likevekt og kan finnes ved å løse likningen $\\beta - sin\\beta = \\pi\\sigma/\\sigma_{0}$.\n",
    "\n",
    "En siste størrelse vi trenger når det kommer til beskrivelsen av selve skipet er dets treghetsmoment $I_{C}$ om tyngdepunktet $C$. Denne kan beregnes gjennom å bruke Steines sats\n",
    "$$\n",
    "    I_{C} = I_{M} - mh^2 = \\frac{1}{2}mR^2(1-\\frac{32}{9\\pi^2})\n",
    "$$\n",
    "\n",
    "### 1.2 Ytre krefter\n",
    "I våre beregninger skal vi ta hensyn til fire ulike ytre krefter. Gravitasjonskraften virker loddrett nedover og er gitt ved formelen $F_{G} = mg$. Oppdriftskraften er fra Arkimedes lov gitt som $F_{B} = \\sigma_{0}Ag$ og virker loddrett oppover.\n",
    "\n",
    "Når skipet er i bevegelse, f.eks gynger fra side til side, vil det virke friksjonskrefter mellom skipets skrog og vannet. En tilnærmelse av denne friksjonskraften $f$ er at den er propsjonal med størrelsen av skipets grenseflate mot vannet og vinkelhastigheten $\\omega$. Denne grenseflaten vil for oss være gitt som $R\\gamma$, hvor $\\gamma$ er den samme som definert tidligere. Dette gir at friksjonskraften kan beskrives med formelen\n",
    "$$\n",
    "    f = -k_{f}R\\gamma\\omega\n",
    "$$\n",
    "hvor $k_{f}$ er vannets friksjonskoeffesient.\n",
    "\n",
    "Den siste ytre krafta vi velger å inkludere er fra vind og bølger. Vi simulerer denne krafta som en harmonisk kraft rettet horisontalt på tvers av lengderetningen, og som har angrepspunkt i samme høyde som vannlinja.\n",
    "$$\n",
    "    F_{w}(t) = F_{0}cos\\omega_{m}t\n",
    "$$\n",
    "\n",
    "\n",
    "### 1.3 Bevegelig last\n",
    "Vi skal etter hvert simulere at det befinner seg en bevegelig last på skipets dekk, og studere hvordan denne lasten påviker skipets dynamikk og stabilitet. Lasten simuleres som en punktmasse med masse $m_{L}$, og har en startposisjon hvor den ligger i ro i en posisjon $M$ midt på dekk. Dets posisjon $s_{L}$ spores relativt til midten av dekkes, og er positiv til høyre og negativ til venstre for midtpunket. Dette betyr blant annet at når $s_{L} = R$ befinner lasten seg helt til høyre på dekket og når $s_{L} = -R$ befinner den seg helt til venstre. For enkelhetens skyld ser vi bort fra alle friksjonskrefter og antar at lasten kun påvirkes av gravitasjonskraften og normalkraften. \n",
    "\n",
    "På grunn av lastens masse vil den virke med en kraft på skipet. Vi definerer denne kraften som $F_{L}$, og har kompnentene $F^x_{L} = m_{L}g cos\\theta sin\\theta$ og $F^y_{L} = -m_{L}g cos^2\\theta$\n",
    "\n",
    "I tillegg vil det på grunn av lastens bevegelse også virke et dreiemoment $\\tau_{L}$ fra lasten. Denne er gitt som $\\tau_{L} = -m_{L}g cos(\\theta)s_{L}$.\n"
   ]
  },
  {
   "cell_type": "markdown",
   "metadata": {},
   "source": [
    "# X.X Grunnlag fra mekanisk fysikk\n",
    "\n",
    "For å beregne skipets bevegelse og hvordan det responderer på de ytre kreftene tar vi utgangspunkt i formler fra den mekaniske fysikken.\n",
    "\n",
    "Ligingen som beskriver tyngdepunktbevegelsen er\n",
    "$$\n",
    "    \\sum \\vec{F} = m\\vec{a} = m \\frac{d\\vec{v}}{dt} = m \\frac{d^2\\vec{r}}{dt^2}\n",
    "$$\n",
    "hvor vi benytter vektornotasjon ettersom vi har både en x- og en y-komponent.\n",
    "\n",
    "I tillegg er rotasjonsbevegelsen gitt ved\n",
    "$$\n",
    "    \\sum \\tau = I_{C} \\frac{d\\omega}{dt}\n",
    "$$\n",
    "hvor dreiemomentets vektor alltid vil peke i z-retning i dette prosjektet.\n",
    "\n",
    "Gjennom å løse disse to uttrykkene for $\\frac{d\\vec{v}}{dt}$ og $\\frac{d\\omega}{dt}$ kan vi finne uttrykk for det deriverte av farten og vinkelfarten. Dette vil være nytting når vi senere skal bruke numeriske metoder til å løse differensialligningene."
   ]
  },
  {
   "cell_type": "markdown",
   "metadata": {},
   "source": []
  },
  {
   "cell_type": "markdown",
   "metadata": {},
   "source": []
  },
  {
   "cell_type": "markdown",
   "metadata": {},
   "source": []
  },
  {
   "cell_type": "markdown",
   "metadata": {},
   "source": []
  },
  {
   "cell_type": "markdown",
   "metadata": {},
   "source": []
  },
  {
   "cell_type": "markdown",
   "metadata": {},
   "source": []
  },
  {
   "cell_type": "markdown",
   "metadata": {},
   "source": []
  },
  {
   "cell_type": "markdown",
   "metadata": {},
   "source": []
  },
  {
   "cell_type": "markdown",
   "metadata": {},
   "source": []
  },
  {
   "cell_type": "markdown",
   "metadata": {},
   "source": []
  },
  {
   "cell_type": "markdown",
   "metadata": {},
   "source": []
  },
  {
   "cell_type": "markdown",
   "metadata": {},
   "source": []
  },
  {
   "cell_type": "markdown",
   "metadata": {},
   "source": []
  },
  {
   "cell_type": "markdown",
   "metadata": {},
   "source": []
  },
  {
   "cell_type": "markdown",
   "metadata": {},
   "source": []
  },
  {
   "cell_type": "markdown",
   "metadata": {},
   "source": []
  },
  {
   "cell_type": "markdown",
   "metadata": {},
   "source": []
  },
  {
   "cell_type": "markdown",
   "metadata": {},
   "source": [
    "# 1)\n",
    "..."
   ]
  },
  {
   "cell_type": "markdown",
   "metadata": {},
   "source": [
    "For å numerisk løse den annenordens differensiallikningen introduserer vi vektoren $\\vec{\\omega}(t) = \\begin{bmatrix} \\theta(t) & \\omega(t) \\end{bmatrix}^T$. Gjennom å benytte denne deler vi vår annenordens differensiallikning opp i to førsteordens differensiallikninger. Vi kan skrive den deriverte av $\\vec{\\omega}(t)$ som\n",
    "$$\n",
    "    \\frac{d\\vec{\\omega}}{dt} = \\begin{bmatrix} \\frac{d\\theta}{dt} & \\frac{d\\omega}{dt} \\end{bmatrix}^T = \\vec{f}(t, \\vec{\\omega})\n",
    "$$\n",
    "\n",
    "For å finne et uttrykk for $\\vec{f}(t, \\vec{\\omega})$ benytter vi at $\\frac{d\\theta}{dt} = \\omega$. I tillegg kan vi finne $\\frac{d\\omega}{dt}$ gjennom formelen for skipets rotasjonsbegegelse, hvor vi antar at det kun er dreiemomentet $\\tau_{B}$ som påvirker hvordan skipet beveger seg.\n",
    "$$\n",
    "    \\sum \\tau = I_{C}\\frac{d\\omega}{dt} \\Rightarrow \\frac{d\\omega}{dt} = \\frac{ \\sum \\tau}{I_{C}} = \\frac{\\tau_{B}}{I_{C}} = -\\frac{F_{B}h}{I_{C}}\\sin\\theta = -\\frac{A\\sigma_{0}gh}{I_{C}}\\sin\\theta\n",
    "$$\n",
    "\n",
    "Dette gir oss et uttrykket\n",
    "$$\n",
    "    \\frac{d\\vec{\\omega}}{dt} = \\vec{f}(t, \\vec{\\omega}) =  \\begin{bmatrix} \\omega(t) & -\\frac{A\\sigma_{0}gh}{I_{C}}\\sin(\\theta(t)) \\end{bmatrix}^T \n",
    "$$"
   ]
  },
  {
   "cell_type": "markdown",
   "metadata": {},
   "source": [
    "# 1.3 Eulers metode\n",
    "\n",
    "Eulers metode er en førsteordens metode for å løse ODE'er med gitte initialverdier, og er den mest grunnleggende metoden vi kan benytte for å løse vår differensiallikning. Ettersom det er en førsteordens metode medfører dette en høy feil sammenliknet med andre metoder. Vi har at det at den lokale feilen er proposjonal med kvadratet av steglengden, og den globale feilen er propsjonal med steglengden.\n",
    "\n",
    "Vår ODE $\\frac{d\\vec{\\omega}}{dt} = \\vec{f}(t, \\vec{\\omega})$ kan ved bruk av Eulers metode løses ved å bruke formelen\n",
    "$$\n",
    "    \\vec{\\omega}_{i+1} = \\vec{\\omega}_{i} + h\\vec{f}(t_{i}, \\vec{\\omega}_{i})\n",
    "$$\n",
    "\n",
    "hvor h er steglengden (avstanden mellom t-verdiene). Dersom vi kjenner en initialverdi $\\vec{\\omega}(t = t_{0})$ kan vi dermed tilnærme hva $\\vec{\\omega}(t)$ vil være ved andre tidspunkt."
   ]
  },
  {
   "cell_type": "code",
   "execution_count": null,
   "metadata": {},
   "outputs": [],
   "source": []
  },
  {
   "cell_type": "markdown",
   "metadata": {},
   "source": []
  },
  {
   "cell_type": "markdown",
   "metadata": {},
   "source": []
  },
  {
   "cell_type": "markdown",
   "metadata": {},
   "source": [
    "# 2)\n",
    "\n",
    "\n",
    "### Utlede funksjonen $\\vec{f}$\n",
    "\n",
    "Fra nå av skal vi ta hensyn til at mengden vann som båden fortregner varierer, hvilket betyr at massesenteret vil begynne å bevege på seg. Dette resulterer også i at likningene $\\sum{\\vec{F}} = m\\vec{a}$ og $\\sum{\\vec{\\tau}} = I_{C}\\frac{d\\omega}{dt}$ vil være koblede. For å løse linkningssystemet må vektoren $\\vec{\\omega}$ nå inneholde $\\theta$, $\\omega$, $x$, $y$, $v_{x}$ og $v_{y}$. \n",
    "$$\n",
    "    \\vec{\\omega} =  \\begin{bmatrix} \\theta & \\omega & x & y & v_{x} & v_{y} \\end{bmatrix}^T \n",
    "$$\n",
    "\n",
    "Vi ønsker å finne en funksjon $\\vec{f}$ som oppfyller likningen\n",
    "$$\n",
    "    \\frac{d\\vec{\\omega}}{dt} = \\begin{bmatrix} \\frac{d\\theta}{dt} & \\frac{d\\omega}{dt} & \\frac{dx}{dt} & \\frac{dy}{dt} & \\frac{dv_{x}}{dt} & \\frac{dv_{y}}{dt} \\end{bmatrix}^T = \\vec{f}\n",
    "$$\n",
    "\n",
    "\n",
    "\n",
    "Enn så lenge betrakter vi et system hvor $\\sum{\\vec{F}} = \\vec{F_{G}} + \\vec{F_{B}}$ og $\\sum{\\vec{\\tau}} = \\vec{\\tau_{B}}$. Ettersom både $\\vec{F_{G}}$ og $\\vec{F_{B}}$ kun virker i y-retning har vi at summen av kreftene i x-retning er lik null. Dette resulterer i at massesenteret ikke vil bevege seg fra side til side, kun opp og ned. For at funksjonen $\\vec{f}$ skal forbli så generell som mulig tar vi fremteles med $x$ og $v_{x}$ som variabler i funksjonen. \n",
    "\n",
    "I likhet med tidligere har vi at $\\frac{d\\theta}{dt} = \\omega$ og $\\frac{d\\omega}{dt} = -\\frac{A\\sigma_{0}gh}{I_{C}}\\sin\\theta$, og det kommer ikke som noen overraskelse at $\\frac{dy}{dt} = v_{y}$. Fra uttrykket for summen av kreftene finner vi $\\frac{dv_{y}}{dt}$.\n",
    "$$\n",
    "    \\sum{\\vec{F}} = m\\vec{a} = m\\frac{dv_{y}}{dt} = -mg + A\\sigma_{0}g \\Rightarrow \\frac{dv_{y}}{dt} = -g + \\frac{A\\sigma_{0}g}{m}\n",
    "$$\n",
    "\n",
    "Dette gir oss et uttrykket\n",
    "$$\n",
    "    \\frac{d\\vec{\\omega}}{dt} = \\vec{f}(t, \\vec{\\omega}) =  \\begin{bmatrix} \\omega(t) & -\\frac{A\\sigma_{0}gh}{I_{C}}\\sin(\\theta(t)) & v_{x}(t) & v_{y}(t) & 0 & -g + \\frac{A\\sigma_{0}g}{m} \\end{bmatrix}^T \n",
    "$$\n",
    "\n",
    "Her er det viktig å ikke glemme at $A$ avhenger av $\\theta$ og høyden $y$."
   ]
  },
  {
   "cell_type": "markdown",
   "metadata": {},
   "source": []
  },
  {
   "cell_type": "markdown",
   "metadata": {},
   "source": []
  },
  {
   "cell_type": "markdown",
   "metadata": {},
   "source": []
  },
  {
   "cell_type": "markdown",
   "metadata": {},
   "source": []
  },
  {
   "cell_type": "markdown",
   "metadata": {},
   "source": []
  },
  {
   "cell_type": "markdown",
   "metadata": {},
   "source": []
  },
  {
   "cell_type": "markdown",
   "metadata": {},
   "source": []
  },
  {
   "cell_type": "markdown",
   "metadata": {},
   "source": []
  },
  {
   "cell_type": "markdown",
   "metadata": {},
   "source": []
  },
  {
   "cell_type": "markdown",
   "metadata": {},
   "source": []
  },
  {
   "cell_type": "markdown",
   "metadata": {},
   "source": []
  },
  {
   "cell_type": "markdown",
   "metadata": {},
   "source": []
  },
  {
   "cell_type": "markdown",
   "metadata": {},
   "source": []
  },
  {
   "cell_type": "markdown",
   "metadata": {},
   "source": []
  },
  {
   "cell_type": "markdown",
   "metadata": {},
   "source": []
  },
  {
   "cell_type": "markdown",
   "metadata": {},
   "source": []
  },
  {
   "cell_type": "markdown",
   "metadata": {},
   "source": []
  },
  {
   "cell_type": "markdown",
   "metadata": {},
   "source": []
  },
  {
   "cell_type": "markdown",
   "metadata": {},
   "source": []
  },
  {
   "cell_type": "markdown",
   "metadata": {},
   "source": []
  },
  {
   "cell_type": "markdown",
   "metadata": {},
   "source": []
  },
  {
   "cell_type": "markdown",
   "metadata": {},
   "source": []
  },
  {
   "cell_type": "markdown",
   "metadata": {},
   "source": []
  },
  {
   "cell_type": "markdown",
   "metadata": {},
   "source": []
  },
  {
   "cell_type": "markdown",
   "metadata": {},
   "source": []
  }
 ],
 "metadata": {
  "interpreter": {
   "hash": "9f4e066af3842fc0bb4bbe4fb5b091768cd4b9d6be5f33db49dbe02fab4ecafa"
  },
  "kernelspec": {
   "display_name": "Python 3 (ipykernel)",
   "language": "python",
   "name": "python3"
  },
  "language_info": {
   "codemirror_mode": {
    "name": "ipython",
    "version": 3
   },
   "file_extension": ".py",
   "mimetype": "text/x-python",
   "name": "python",
   "nbconvert_exporter": "python",
   "pygments_lexer": "ipython3",
   "version": "3.9.7"
  }
 },
 "nbformat": 4,
 "nbformat_minor": 2
}
