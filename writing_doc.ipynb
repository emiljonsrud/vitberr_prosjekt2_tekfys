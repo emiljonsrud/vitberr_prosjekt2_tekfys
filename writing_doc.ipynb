{
 "cells": [
  {
   "cell_type": "markdown",
   "metadata": {},
   "source": [
    "### TMA4320 - Project 2: Physics\n",
    "\n",
    "\n",
    "# 0.0 Motivasjon\n",
    "I fysikk er vi interessert i å simulere fysiske systemer for å forutse hvordan disse vil oppføre seg. For enkle systemer kan vi benytte analytiske metoder i simulasjonene, men for større og mer avanserte er vi ofte nødt til å benytte oss av numeriske tilnærminger. I dette prosjektet skal vi studere en skipsmodell - Vasaskipet, og analysere hvordan dens bevegelse og stabilitet påvirkes av ulike krefter og faktorer. \n",
    "\n",
    "For å studere skipet vil vi trenge å løse ordinære differensiallikninger (ODE), og det er flere metoder - både analytiske og numeriske - å gjøre dette på. Vi vil benytte Eulers metode og fjerde ordens Runge-Kutta. Forskjellen på disse metodene\n",
    "\n",
    "\n",
    "\n"
   ]
  },
  {
   "cell_type": "markdown",
   "metadata": {},
   "source": []
  },
  {
   "cell_type": "markdown",
   "metadata": {},
   "source": []
  },
  {
   "cell_type": "markdown",
   "metadata": {},
   "source": [
    "# 1)\n",
    "..."
   ]
  },
  {
   "cell_type": "markdown",
   "metadata": {},
   "source": [
    "For å numerisk løse den annenordens differensiallikningen introduserer vi vektoren $\\vec{\\omega}(t) = \\begin{bmatrix} \\theta(t) & \\omega(t) \\end{bmatrix}^T$. Gjennom å benytte denne deler vi vår annenordens differensiallikning opp i to førsteordens differensiallikninger. Vi kan skrive den deriverte av $\\vec{\\omega}(t)$ som\n",
    "$$\n",
    "    \\frac{d\\vec{\\omega}}{dt} = \\begin{bmatrix} \\frac{d\\theta}{dt} & \\frac{d\\omega}{dt} \\end{bmatrix}^T = \\vec{f}(t, \\vec{\\omega})\n",
    "$$\n",
    "\n",
    "For å finne et uttrykk for $\\vec{f}(t, \\vec{\\omega})$ benytter vi at $\\frac{d\\theta}{dt} = \\omega$. I tillegg kan vi finne $\\frac{d\\omega}{dt}$ gjennom formelen for skipets rotasjonsbegegelse, hvor vi antar at det kun er dreiemomentet $\\tau_{B}$ som påvirker hvordan skipet beveger seg.\n",
    "$$\n",
    "    \\sum \\tau = I_{C}\\frac{d\\omega}{dt} \\Rightarrow \\frac{d\\omega}{dt} = \\frac{ \\sum \\tau}{I_{C}} = \\frac{\\tau_{B}}{I_{C}} = -\\frac{F_{B}h}{I_{C}}\\sin\\theta = -\\frac{A\\sigma_{0}gh}{I_{C}}\\sin\\theta\n",
    "$$\n",
    "\n",
    "Dette gir oss et uttrykket\n",
    "$$\n",
    "    \\frac{d\\vec{\\omega}}{dt} = \\vec{f}(t, \\vec{\\omega}) =  \\begin{bmatrix} \\omega(t) & -\\frac{A\\sigma_{0}gh}{I_{C}}\\sin(\\theta(t)) \\end{bmatrix}^T \n",
    "$$\n",
    "\n",
    "# 1.3 Euler metoden"
   ]
  },
  {
   "cell_type": "markdown",
   "metadata": {},
   "source": []
  },
  {
   "cell_type": "markdown",
   "metadata": {},
   "source": []
  },
  {
   "cell_type": "markdown",
   "metadata": {},
   "source": [
    "# 2)\n",
    "\n",
    "\n",
    "### Utlede funksjonen $\\vec{f}$\n",
    "\n",
    "Fra nå av skal vi ta hensyn til at mengden vann som båden fortregner varierer, hvilket betyr at massesenteret vil begynne å bevege på seg. Dette resulterer også i at likningene $\\sum{\\vec{F}} = m\\vec{a}$ og $\\sum{\\vec{\\tau}} = I_{C}\\frac{d\\omega}{dt}$ vil være koblede. For å løse linkningssystemet må vektoren $\\vec{\\omega}$ nå inneholde $\\theta$, $\\omega$, $x$, $y$, $v_{x}$ og $v_{y}$. Vi ønsker å finne en funksjon $\\vec{f}$ slik at likningen $\\frac{d\\vec{\\omega}}{dt} = \\vec{f}$ oppfylles.\n",
    "\n",
    "Enn så lenge betrakter vi et system hvor $\\sum{\\vec{F}} = \\vec{F_{G}} + \\vec{F_{B}}$ og $\\sum{\\vec{\\tau}} = \\vec{\\tau_{B}}$. Ettersom både $\\vec{F_{G}}$ og $\\vec{F_{B}}$ kun virker i y-retning har vi at summen av kreftene i x-retning er lik null. Dette resulterer i at massesenteret ikke vil bevege seg fra side til side, kun opp og ned. For at funksjonen $\\vec{f}$ skal forbli så generell som mulig tar vi fremteles med $x$ og $v_{x}$ som variabler i funksjonen. \n",
    "\n",
    "I likhet med tidligere har vi at $\\frac{d\\theta}{dt} = \\omega$ og $\\frac{d\\omega}{dt} = -\\frac{A\\sigma_{0}gh}{I_{C}}\\sin\\theta$, og det kommer ikke som noen overraskelse at $\\frac{dy}{dt} = v_{y}$. Fra uttrykket for summen av kreftene finner vi $\\frac{dv_{y}}{dt}$.\n",
    "$$\n",
    "    \\sum{\\vec{F}} = m\\vec{a} = m\\frac{dv_{y}}{dt} = -mg + A\\sigma_{0}g \\Rightarrow \\frac{dv_{y}}{dt} = -g + \\frac{A\\sigma_{0}g}{m}\n",
    "$$\n",
    "\n",
    "Dette gir oss et uttrykket\n",
    "$$\n",
    "    \\frac{d\\vec{\\omega}}{dt} = \\vec{f}(t, \\vec{\\omega}) =  \\begin{bmatrix} \\omega(t) & -\\frac{A\\sigma_{0}gh}{I_{C}}\\sin(\\theta(t)) & v_{x}(t) & v_{y}(t) & 0 & -g + \\frac{A\\sigma_{0}g}{m} \\end{bmatrix}^T \n",
    "$$\n",
    "\n",
    "Her er det også viktig å ikke glemme at $A$ avhenger av $\\theta$."
   ]
  },
  {
   "cell_type": "markdown",
   "metadata": {},
   "source": []
  },
  {
   "cell_type": "markdown",
   "metadata": {},
   "source": []
  },
  {
   "cell_type": "markdown",
   "metadata": {},
   "source": []
  },
  {
   "cell_type": "markdown",
   "metadata": {},
   "source": []
  },
  {
   "cell_type": "markdown",
   "metadata": {},
   "source": []
  },
  {
   "cell_type": "markdown",
   "metadata": {},
   "source": []
  },
  {
   "cell_type": "markdown",
   "metadata": {},
   "source": []
  },
  {
   "cell_type": "markdown",
   "metadata": {},
   "source": []
  },
  {
   "cell_type": "markdown",
   "metadata": {},
   "source": []
  },
  {
   "cell_type": "markdown",
   "metadata": {},
   "source": []
  },
  {
   "cell_type": "markdown",
   "metadata": {},
   "source": []
  },
  {
   "cell_type": "markdown",
   "metadata": {},
   "source": []
  },
  {
   "cell_type": "markdown",
   "metadata": {},
   "source": []
  },
  {
   "cell_type": "markdown",
   "metadata": {},
   "source": []
  },
  {
   "cell_type": "markdown",
   "metadata": {},
   "source": []
  },
  {
   "cell_type": "markdown",
   "metadata": {},
   "source": []
  },
  {
   "cell_type": "markdown",
   "metadata": {},
   "source": []
  },
  {
   "cell_type": "markdown",
   "metadata": {},
   "source": []
  },
  {
   "cell_type": "markdown",
   "metadata": {},
   "source": []
  },
  {
   "cell_type": "markdown",
   "metadata": {},
   "source": []
  },
  {
   "cell_type": "markdown",
   "metadata": {},
   "source": []
  },
  {
   "cell_type": "markdown",
   "metadata": {},
   "source": []
  },
  {
   "cell_type": "markdown",
   "metadata": {},
   "source": []
  },
  {
   "cell_type": "markdown",
   "metadata": {},
   "source": []
  },
  {
   "cell_type": "markdown",
   "metadata": {},
   "source": []
  }
 ],
 "metadata": {
  "interpreter": {
   "hash": "9f4e066af3842fc0bb4bbe4fb5b091768cd4b9d6be5f33db49dbe02fab4ecafa"
  },
  "kernelspec": {
   "display_name": "Python 3.9.7 ('base')",
   "language": "python",
   "name": "python3"
  },
  "language_info": {
   "name": "python",
   "version": "3.9.7"
  },
  "orig_nbformat": 4
 },
 "nbformat": 4,
 "nbformat_minor": 2
}
