{
 "cells": [
  {
   "cell_type": "markdown",
   "metadata": {},
   "source": [
    "# 1)\n",
    "..."
   ]
  },
  {
   "cell_type": "markdown",
   "metadata": {},
   "source": [
    "For å numerisk løse den annenordens differensiallikningen introduserer vi vektoren $\\vec{\\omega}(t) = \\begin{bmatrix} \\theta(t) & \\omega(t) \\end{bmatrix}^T$. Gjennom å benytte denne deler vi vår annenordens differensiallikning opp i to førsteordens differensiallikninger. Vi kan skrive den deriverte av $\\vec{\\omega}(t)$ som\n",
    "$$\n",
    "    \\frac{d\\vec{\\omega}}{dt} = \\begin{bmatrix} \\frac{d\\theta}{dt} & \\frac{d\\omega}{dt} \\end{bmatrix}^T = \\vec{f}(t, \\vec{\\omega})\n",
    "$$\n",
    "\n",
    "For å finne et uttrykk for $\\vec{f}(t, \\vec{\\omega})$ benytter vi at $\\frac{d\\theta}{dt} = \\omega$. I tillegg kan vi finne $\\frac{d\\omega}{dt}$ gjennom formelen for skipets rotasjonsbegegelse, hvor vi antar at det kun er dreiemomentet $\\tau_{B}$ som påvirker hvordan skipet beveger seg.\n",
    "$$\n",
    "    \\sum \\tau = I_{C}\\frac{d\\omega}{dt} \\Rightarrow \\frac{d\\omega}{dt} = \\frac{ \\sum \\tau}{I_{C}} = \\frac{\\tau_{B}}{I_{C}} = -\\frac{F_{B}h}{I_{C}}\\sin\\theta = -\\frac{A\\sigma_{0}gh}{I_{C}}\\sin\\theta\n",
    "$$\n",
    "\n",
    "Dette gir oss et uttrykket\n",
    "$$\n",
    "    \\frac{d\\vec{\\omega}}{dt} = \\vec{f}(t, \\vec{\\omega}) =  \\begin{bmatrix} \\omega(t) & -\\frac{A\\sigma_{0}gh}{I_{C}}\\sin(\\theta(t)) \\end{bmatrix}^T \n",
    "$$\n",
    "\n",
    "# 1.3 Euler metoden"
   ]
  },
  {
   "cell_type": "markdown",
   "metadata": {},
   "source": []
  },
  {
   "cell_type": "markdown",
   "metadata": {},
   "source": [
    "# 2)\n",
    "..."
   ]
  },
  {
   "cell_type": "markdown",
   "metadata": {},
   "source": []
  },
  {
   "cell_type": "markdown",
   "metadata": {},
   "source": []
  },
  {
   "cell_type": "markdown",
   "metadata": {},
   "source": []
  },
  {
   "cell_type": "markdown",
   "metadata": {},
   "source": []
  }
 ],
 "metadata": {
  "interpreter": {
   "hash": "9f4e066af3842fc0bb4bbe4fb5b091768cd4b9d6be5f33db49dbe02fab4ecafa"
  },
  "kernelspec": {
   "display_name": "Python 3.9.7 ('base')",
   "language": "python",
   "name": "python3"
  },
  "language_info": {
   "name": "python",
   "version": "3.9.7"
  },
  "orig_nbformat": 4
 },
 "nbformat": 4,
 "nbformat_minor": 2
}
