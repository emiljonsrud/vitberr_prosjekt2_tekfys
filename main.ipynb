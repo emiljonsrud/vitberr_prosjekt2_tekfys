{
 "cells": [
  {
   "cell_type": "markdown",
   "metadata": {},
   "source": [
    "### TMA4320 - Project 2: Physics\n",
    "\n",
    "\n",
    "# 0.0 Motivation"
   ]
  },
  {
   "cell_type": "code",
   "execution_count": 1,
   "metadata": {},
   "outputs": [
    {
     "name": "stdout",
     "output_type": "stream",
     "text": [
      "this is the second commit on the laptop-branch, from the large computer\n"
     ]
    }
   ],
   "source": [
    "print(\"this is the second commit on the laptop-branch, from the large computer\")\n",
    "\n"
   ]
  },
  {
   "cell_type": "code",
   "execution_count": 2,
   "metadata": {},
   "outputs": [],
   "source": [
    "# Importing libraries\n",
    "import numpy as np\n",
    "import matplotlib.pyplot as plt"
   ]
  },
  {
   "cell_type": "code",
   "execution_count": 3,
   "metadata": {},
   "outputs": [],
   "source": [
    "# Parameters\n",
    "sigma_0 = 1000 # kg/m^2\n",
    "sigma = 500 # kg/m^2\n",
    "R = 10 # m, Radius\n",
    "A_s = 0.5*np.pi*(R**2) # Cross-section of boat\n",
    "g = 9.81 # m/s^2"
   ]
  },
  {
   "cell_type": "code",
   "execution_count": 8,
   "metadata": {},
   "outputs": [],
   "source": [
    "def newton(f, df, x0, tol=1.e-8, max_iter=30):\n",
    "    ''' Solve f(x)=0 by Newtons method\n",
    "        The output of each iteration is printed\n",
    "        Input:\n",
    "        f, df:   The function f and its derivate f'.\n",
    "        x0:  Initial values\n",
    "        tol: The tolerance\n",
    "      Output:\n",
    "        The root and the number of iterations\n",
    "    '''\n",
    "    x = x0\n",
    "    print(f\"k ={0:3d}, x = {x:18.15f}, f(x) = {f(x):10.3e}\")\n",
    "    for k in range(max_iter):\n",
    "        fx = f(x)\n",
    "        if abs(fx) < tol:           # Accept the solution \n",
    "            break \n",
    "        x = x - fx/df(x)            # Newton-iteration\n",
    "        print(f\"k ={k+1:3d}, x = {x:18.15f}, f(x) = {f(x):10.3e}\")\n",
    "    return x, k+1"
   ]
  },
  {
   "cell_type": "code",
   "execution_count": 14,
   "metadata": {},
   "outputs": [
    {
     "name": "stdout",
     "output_type": "stream",
     "text": [
      "k =  0, x =  5.000000000000000, f(x) =  4.388e+00\n",
      "k =  1, x = -1.125780126106932, f(x) = -1.794e+00\n",
      "k =  2, x =  2.024151652930856, f(x) = -4.456e-01\n",
      "k =  3, x =  2.334048802844800, f(x) =  4.066e-02\n",
      "k =  4, x =  2.310007184357851, f(x) =  2.104e-04\n",
      "k =  5, x =  2.309881463499782, f(x) =  5.840e-09\n",
      "Beta =  132.3464590340394 degrees\n"
     ]
    }
   ],
   "source": [
    "def Excercise_1a():\n",
    "    f = lambda beta: beta - np.sin(beta) -np.pi * sigma/sigma_0\n",
    "    df = lambda beta: 1 - np.cos(beta)\n",
    "    beta, iters = newton(f,df,5)\n",
    "    print(\"Beta = \",np.degrees(beta),\"degrees\")\n",
    "Excercise_1a()"
   ]
  },
  {
   "cell_type": "markdown",
   "metadata": {},
   "source": [
    "# X.0 Conclusion\n",
    "\n",
    "Lorem Ipsum..."
   ]
  },
  {
   "cell_type": "markdown",
   "metadata": {},
   "source": []
  },
  {
   "cell_type": "markdown",
   "metadata": {},
   "source": []
  }
 ],
 "metadata": {
  "interpreter": {
   "hash": "363397c9a7880997dc2e970febe98a88b19649a9f2d602ddb36834421663b77d"
  },
  "kernelspec": {
   "display_name": "Python 3.10.2 64-bit (windows store)",
   "language": "python",
   "name": "python3"
  },
  "language_info": {
   "codemirror_mode": {
    "name": "ipython",
    "version": 3
   },
   "file_extension": ".py",
   "mimetype": "text/x-python",
   "name": "python",
   "nbconvert_exporter": "python",
   "pygments_lexer": "ipython3",
   "version": "3.8.12"
  }
 },
 "nbformat": 4,
 "nbformat_minor": 2
}
