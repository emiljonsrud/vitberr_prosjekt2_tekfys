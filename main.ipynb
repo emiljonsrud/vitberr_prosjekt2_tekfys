{
 "cells": [
  {
   "cell_type": "markdown",
   "metadata": {},
   "source": [
    "### TMA4320 - Project 2: Physics\n",
    "\n",
    "\n",
    "# 0.0 Motivation"
   ]
  },
  {
   "cell_type": "code",
   "execution_count": 2,
   "metadata": {},
   "outputs": [],
   "source": [
    "# Importing libraries\n",
    "import numpy as np\n",
    "import matplotlib.pyplot as plt"
   ]
  },
  {
   "cell_type": "code",
   "execution_count": 5,
   "metadata": {},
   "outputs": [],
   "source": [
    "# Parameters\n",
    "sigma_0 = 1000 # kg/m^2\n",
    "sigma = 500 # kg/m^2\n",
    "R = 10 # m, Radius\n",
    "A_s = 0.5*np.pi*(R**2) # Cross-section of boat\n",
    "g = 9.81 # m/s^2\n",
    "h = (4*R)/(3*np.pi)\n",
    "\n",
    "A_0 = (sigma*np.pi*(R**2))/(2*sigma_0)\n"
   ]
  },
  {
   "cell_type": "code",
   "execution_count": 6,
   "metadata": {},
   "outputs": [],
   "source": [
    "def calculate_I_c(m, R):\n",
    "    return 0.5*m*(R**2)*(1-(32/(9*(np.pi**2))))\n",
    "\n",
    "m = A_s*sigma\n",
    "I_c = calculate_I_c(m, R)"
   ]
  },
  {
   "cell_type": "code",
   "execution_count": 16,
   "metadata": {},
   "outputs": [],
   "source": [
    "def newton(f, df, x0, tol=1.e-8, max_iter=30):\n",
    "    ''' Solve f(x)=0 by Newtons method, shamelessly copied from the note\n",
    "    \"Numerical Solution of Nonlinear Equations\" by Anne Kværnø\n",
    "        The output of each iteration is printed\n",
    "        Input:\n",
    "        f, df:   The function f and its derivate f'.\n",
    "        x0:  Initial values\n",
    "        tol: The tolerance\n",
    "      Output:\n",
    "        The root and the number of iterations\n",
    "    '''\n",
    "    x = x0\n",
    "    print(f\"k ={0:3d}, x = {x:18.15f}, f(x) = {f(x):10.3e}\")\n",
    "    for k in range(max_iter):\n",
    "        fx = f(x)\n",
    "        if abs(fx) < tol:           # Accept the solution \n",
    "            break \n",
    "        x = x - fx/df(x)            # Newton-iteration\n",
    "        print(f\"k ={k+1:3d}, x = {x:18.15f}, f(x) = {f(x):10.3e}\")\n",
    "    return x, k+1"
   ]
  },
  {
   "cell_type": "code",
   "execution_count": 21,
   "metadata": {},
   "outputs": [
    {
     "name": "stdout",
     "output_type": "stream",
     "text": [
      "k =  0, x =  5.000000000000000, f(x) =  4.388e+00\n",
      "k =  1, x = -1.125780126106931, f(x) = -1.794e+00\n",
      "k =  2, x =  2.024151652930861, f(x) = -4.456e-01\n",
      "k =  3, x =  2.334048802844799, f(x) =  4.066e-02\n",
      "k =  4, x =  2.310007184357851, f(x) =  2.104e-04\n",
      "k =  5, x =  2.309881463499782, f(x) =  5.840e-09\n",
      "Beta =  132.35 degrees\n"
     ]
    }
   ],
   "source": [
    "def excercise_1a():\n",
    "    f = lambda beta: beta - np.sin(beta) -np.pi * sigma/sigma_0\n",
    "    df = lambda beta: 1 - np.cos(beta)\n",
    "    beta, iters = newton(f,df,5)\n",
    "    print(\"Beta = \",round(np.degrees(beta), 2),\"degrees\")\n",
    "\n",
    "excercise_1a()\n",
    "beta = 132.3464590340394"
   ]
  },
  {
   "cell_type": "code",
   "execution_count": 13,
   "metadata": {},
   "outputs": [],
   "source": [
    "#Define the global variables for the equilibrium, as requested in 1b)\n",
    "y_M_0 = R*np.cos(beta/2)\n",
    "y_C_0 = y_M_0 - 4*R/(3*np.pi)\n",
    "y_B_0 = y_M_0 - 4*R*(np.sin(beta/2))**3 /(3*(beta-np.sin(beta)))\n",
    "y_D_0 = y_M_0 - R"
   ]
  },
  {
   "cell_type": "markdown",
   "metadata": {},
   "source": [
    "# 1.3 Euler metoden\n",
    "..."
   ]
  },
  {
   "cell_type": "code",
   "execution_count": 30,
   "metadata": {},
   "outputs": [],
   "source": [
    "def euler_step(f, t, w, h_step):\n",
    "    '''\n",
    "    Tar inn en vektor-funksjon på formen ..., med nåværende tid (t) og \n",
    "    tilstand (w), og regner ut ett Euler-steg.\n",
    "    Inn:\n",
    "        f: s-array, som beskriver et system av førsteordens diff-ligninger.\n",
    "        t: float, nåvernde tid\n",
    "        w: s-array, som beskriver systemet\n",
    "        h_step: steglengde\n",
    "    Ut:\n",
    "        t_new: neste tidssteg (t+h)\n",
    "        w_new: systemet etter ett beregnet tidssteg    \n",
    "    '''\n",
    "    w_new = w + h_step*f(t, w)\n",
    "    return w_new\n",
    "\n",
    "\n",
    "def euler_method(f, t_0, t_end, w_0, h_step):\n",
    "    w_num = np.array([w_0])  \n",
    "    t_num = np.arange(t_0, t_end + h_step, h_step)   \n",
    "\n",
    "    for i in range(len(t_num)-1):\n",
    "        w_n = euler_step(f, t_num[i], w_num[i], h_step)\n",
    "        w_num = np.concatenate((w_num, np.array([w_n])))\n",
    "\n",
    "    return t_num, w_num"
   ]
  },
  {
   "cell_type": "code",
   "execution_count": 12,
   "metadata": {},
   "outputs": [],
   "source": [
    "def f(t, w):\n",
    "    const = (A_0 * sigma_0 * g * h)/I_c\n",
    "    return np.array([w[1], -const*np.sin(w[0])])"
   ]
  },
  {
   "cell_type": "code",
   "execution_count": 31,
   "metadata": {},
   "outputs": [],
   "source": [
    "theta_0 = np.radians(20)\n",
    "omega_0 = 0\n",
    "w_0 = np.array([theta_0, omega_0])\n",
    "\n",
    "t_0 = 0\n",
    "t_end = 20\n",
    "\n",
    "h_step = 0.01\n",
    "\n",
    "t_num, w_num = euler_method(f, t_0, t_end, w_0, h_step)\n",
    "\n",
    "theta_num = w_num[:,0]\n",
    "omega_num = w_num[:,1]"
   ]
  },
  {
   "cell_type": "code",
   "execution_count": 35,
   "metadata": {},
   "outputs": [
    {
     "data": {
      "image/png": "[encoded data removed]",
      "text/plain": [
       "<Figure size 432x288 with 1 Axes>"
      ]
     },
     "metadata": {
      "needs_background": "light"
     },
     "output_type": "display_data"
    }
   ],
   "source": [
    "plt.plot(t_num, theta_num)\n",
    "plt.show()"
   ]
  },
  {
   "cell_type": "code",
   "execution_count": null,
   "metadata": {},
   "outputs": [],
   "source": []
  },
  {
   "cell_type": "markdown",
   "metadata": {},
   "source": [
    "## 1.3 Runge Kutta metoden\n",
    "\n",
    "Implementerer fjerde ordens Runge Kutta.\n"
   ]
  },
  {
   "cell_type": "code",
   "execution_count": 19,
   "metadata": {},
   "outputs": [],
   "source": [
    "def rk4_step(f, t, w, h):\n",
    "    '''\n",
    "    Tar inn en vektor-funksjon på formen f(t, _w_) = _y'_ = _y_ + _g(x)_, med nåværende tid (t) og \n",
    "    tilstand (w), og regner ut ett Runge Kutta steg.\n",
    "    Inn:\n",
    "        f: s-array, som beskriver et system av førsteordens diff-ligninger.\n",
    "        t: float, nåvernde tid\n",
    "        w: s-array, som beskriver systemet\n",
    "    Ut:\n",
    "        t_new: neste tidssteg (t+h)\n",
    "        w_new: systemet etter ett beregnet tidssteg    \n",
    "    '''\n",
    "    k_1 = f(t, w)\n",
    "    k_2 = f(t + 0.5*h, w + h*k_1*0.5)\n",
    "    k_3 = f(t + 0.5*h, w + h*k_2*0.5)\n",
    "    k_4 = f(t + 1.0*h, w + h*k_3)\n",
    "\n",
    "    w_new = w + h*(1/6) * (k_1 + 2*k_2 + 2*k_3 + k_4)\n",
    "    t_new = t + h\n",
    "\n",
    "    return t_new, w_new\n",
    "\n",
    "\n"
   ]
  },
  {
   "cell_type": "markdown",
   "metadata": {},
   "source": [
    "# X.0 Conclusion\n",
    "\n",
    "Lorem Ipsum..."
   ]
  },
  {
   "cell_type": "markdown",
   "metadata": {},
   "source": []
  },
  {
   "cell_type": "markdown",
   "metadata": {},
   "source": []
  }
 ],
 "metadata": {
  "interpreter": {
   "hash": "363397c9a7880997dc2e970febe98a88b19649a9f2d602ddb36834421663b77d"
  },
  "kernelspec": {
   "display_name": "Python 3.10.2 64-bit (windows store)",
   "language": "python",
   "name": "python3"
  },
  "language_info": {
   "codemirror_mode": {
    "name": "ipython",
    "version": 3
   },
   "file_extension": ".py",
   "mimetype": "text/x-python",
   "name": "python",
   "nbconvert_exporter": "python",
   "pygments_lexer": "ipython3",
   "version": "3.8.9"
  }
 },
 "nbformat": 4,
 "nbformat_minor": 2
}
