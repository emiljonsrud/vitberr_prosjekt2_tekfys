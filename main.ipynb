{
 "cells": [
  {
   "cell_type": "markdown",
   "metadata": {},
   "source": [
    "### TMA4320 - Project 2: Physics\n",
    "\n",
    "\n",
    "# 0.0 Motivation"
   ]
  },
  {
   "cell_type": "code",
   "execution_count": 11,
   "metadata": {},
   "outputs": [
    {
     "name": "stdout",
     "output_type": "stream",
     "text": [
      "this is the second commit on the laptop-branch, from the large computer\n"
     ]
    }
   ],
   "source": [
    "print(\"this is the second commit on the laptop-branch, from the large computer\")\n",
    "\n"
   ]
  },
  {
   "cell_type": "code",
   "execution_count": null,
   "metadata": {},
   "outputs": [],
   "source": [
    "import numpy as np\n",
    "import matplotlib.pyplot as plt"
   ]
  },
  {
   "cell_type": "code",
   "execution_count": null,
   "metadata": {},
   "outputs": [],
   "source": [
    "# Parameters\n",
    "sigma_0 = 1000 # kg/m^2\n",
    "sigma = 500 # kg/m^2\n",
    "R = 10 # m, Radius\n",
    "A_s = 0.5*np.pi*(R**2) # Cross-section of boat"
   ]
  },
  {
   "cell_type": "code",
   "execution_count": 9,
   "metadata": {},
   "outputs": [
    {
     "name": "stdout",
     "output_type": "stream",
     "text": [
      "This is on tha master branch\n",
      "This is not written on my laptop, but is still on the master branch\n",
      "This is also not laptop, but a new commit\n"
     ]
    }
   ],
   "source": [
    "def merge_test():\n",
    "    print(\"This is on tha master branch\")\n",
    "   \n",
    "\n",
    "\n",
    "merge_test()\n",
    "\n",
    "\n",
    "\n"
   ]
  },
  {
   "cell_type": "code",
   "execution_count": 9,
   "metadata": {},
   "outputs": [
    {
     "name": "stdout",
     "output_type": "stream",
     "text": [
      "This is on tha master branch\n",
      "This is not written on my laptop, but is still on the master branch\n",
      "This is also not laptop, but a new commit\n"
     ]
    }
   ],
   "source": [
    "def merge_test():\n",
    "    print(\"This is on thiucshguiscvgha master branch\")\n",
    "\n",
    "    print(\"This is not written on my laptop, but is still on the master branch\")\n",
    "    print(\"This is also not laptop, but a new commit\")\n",
    "\n",
    "\n",
    "    \n",
    "\n",
    "\n",
    "merge_test()\n",
    "\n",
    "\n",
    "\n",
    ""
   ]
  },
  {
   "cell_type": "code",
   "execution_count": null,
   "metadata": {},
   "outputs": [],
   "source": [
    "print(\"YO\")\n",
    "print(\"YOLO\")"
   ]
  },
  {
   "cell_type": "code",
   "execution_count": null,
   "metadata": {},
   "outputs": [],
   "source": []
  },
  {
   "cell_type": "markdown",
   "metadata": {},
   "source": [
    "# X.0 Conclusion\n",
    "\n",
    "Lorem Ipsum..."
   ]
  },
  {
   "cell_type": "markdown",
   "metadata": {},
   "source": []
  },
  {
   "cell_type": "markdown",
   "metadata": {},
   "source": []
  }
 ],
 "metadata": {
  "interpreter": {
   "hash": "363397c9a7880997dc2e970febe98a88b19649a9f2d602ddb36834421663b77d"
  },
  "kernelspec": {
   "display_name": "Python 3.10.2 64-bit (windows store)",
   "language": "python",
   "name": "python3"
  },
  "language_info": {
   "codemirror_mode": {
    "name": "ipython",
    "version": 3
   },
   "file_extension": ".py",
   "mimetype": "text/x-python",
   "name": "python",
   "nbconvert_exporter": "python",
   "pygments_lexer": "ipython3",
   "version": "3.8.9"
  }
 },
 "nbformat": 4,
 "nbformat_minor": 2
}
