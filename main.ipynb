{
 "cells": [
  {
   "cell_type": "markdown",
   "metadata": {},
   "source": [
    "### TMA4320 - Project 2: Physics\n",
    "\n",
    "\n",
    "# 0.0 Motivation"
   ]
  },
  {
   "cell_type": "code",
   "execution_count": 9,
   "metadata": {},
   "outputs": [
    {
     "ename": "ModuleNotFoundError",
     "evalue": "No module named 'matplotlib'",
     "output_type": "error",
     "traceback": [
      "\u001b[0;31m---------------------------------------------------------------------------\u001b[0m",
      "\u001b[0;31mModuleNotFoundError\u001b[0m                       Traceback (most recent call last)",
      "\u001b[1;32m/Users/ellingsvee/Documents/NTNU/V22/VitBer/Prosjekter/Project_2/vitberr_prosjekt2_tekfys/main.ipynb Cell 3'\u001b[0m in \u001b[0;36m<cell line: 2>\u001b[0;34m()\u001b[0m\n\u001b[1;32m      <a href='vscode-notebook-cell:/Users/ellingsvee/Documents/NTNU/V22/VitBer/Prosjekter/Project_2/vitberr_prosjekt2_tekfys/main.ipynb#ch0000002?line=0'>1</a>\u001b[0m \u001b[39m# Importing libraries\u001b[39;00m\n\u001b[0;32m----> <a href='vscode-notebook-cell:/Users/ellingsvee/Documents/NTNU/V22/VitBer/Prosjekter/Project_2/vitberr_prosjekt2_tekfys/main.ipynb#ch0000002?line=1'>2</a>\u001b[0m \u001b[39mimport\u001b[39;00m \u001b[39mmatplotlib\u001b[39;00m\u001b[39m.\u001b[39;00m\u001b[39mpyplot\u001b[39;00m \u001b[39mas\u001b[39;00m \u001b[39mplt\u001b[39;00m\n\u001b[1;32m      <a href='vscode-notebook-cell:/Users/ellingsvee/Documents/NTNU/V22/VitBer/Prosjekter/Project_2/vitberr_prosjekt2_tekfys/main.ipynb#ch0000002?line=2'>3</a>\u001b[0m \u001b[39mimport\u001b[39;00m \u001b[39mnumpy\u001b[39;00m \u001b[39mas\u001b[39;00m \u001b[39mnp\u001b[39;00m\n",
      "\u001b[0;31mModuleNotFoundError\u001b[0m: No module named 'matplotlib'"
     ]
    }
   ],
   "source": [
    "# Importing libraries\n",
    "import numpy as np\n",
    "import matplotlib.pyplot as plt"
   ]
  },
  {
   "cell_type": "code",
   "execution_count": 5,
   "metadata": {},
   "outputs": [
    {
     "ename": "NameError",
     "evalue": "name 'np' is not defined",
     "output_type": "error",
     "traceback": [
      "\u001b[0;31m---------------------------------------------------------------------------\u001b[0m",
      "\u001b[0;31mNameError\u001b[0m                                 Traceback (most recent call last)",
      "\u001b[1;32m/Users/ellingsvee/Documents/NTNU/V22/VitBer/Prosjekter/Project_2/vitberr_prosjekt2_tekfys/main.ipynb Cell 4'\u001b[0m in \u001b[0;36m<cell line: 5>\u001b[0;34m()\u001b[0m\n\u001b[1;32m      <a href='vscode-notebook-cell:/Users/ellingsvee/Documents/NTNU/V22/VitBer/Prosjekter/Project_2/vitberr_prosjekt2_tekfys/main.ipynb#ch0000003?line=2'>3</a>\u001b[0m sigma \u001b[39m=\u001b[39m \u001b[39m500\u001b[39m \u001b[39m# kg/m^2\u001b[39;00m\n\u001b[1;32m      <a href='vscode-notebook-cell:/Users/ellingsvee/Documents/NTNU/V22/VitBer/Prosjekter/Project_2/vitberr_prosjekt2_tekfys/main.ipynb#ch0000003?line=3'>4</a>\u001b[0m R \u001b[39m=\u001b[39m \u001b[39m10\u001b[39m \u001b[39m# m, Radius\u001b[39;00m\n\u001b[0;32m----> <a href='vscode-notebook-cell:/Users/ellingsvee/Documents/NTNU/V22/VitBer/Prosjekter/Project_2/vitberr_prosjekt2_tekfys/main.ipynb#ch0000003?line=4'>5</a>\u001b[0m A_s \u001b[39m=\u001b[39m \u001b[39m0.5\u001b[39m\u001b[39m*\u001b[39mnp\u001b[39m.\u001b[39mpi\u001b[39m*\u001b[39m(R\u001b[39m*\u001b[39m\u001b[39m*\u001b[39m\u001b[39m2\u001b[39m) \u001b[39m# Cross-section of boat\u001b[39;00m\n\u001b[1;32m      <a href='vscode-notebook-cell:/Users/ellingsvee/Documents/NTNU/V22/VitBer/Prosjekter/Project_2/vitberr_prosjekt2_tekfys/main.ipynb#ch0000003?line=5'>6</a>\u001b[0m g \u001b[39m=\u001b[39m \u001b[39m9.81\u001b[39m\n",
      "\u001b[0;31mNameError\u001b[0m: name 'np' is not defined"
     ]
    }
   ],
   "source": [
    "# Parameters\n",
    "sigma_0 = 1000 # kg/m^2\n",
    "sigma = 500 # kg/m^2\n",
    "R = 10 # m, Radius\n",
    "A_s = 0.5*np.pi*(R**2) # Cross-section of boat\n",
    "g = 9.81 # m/s^2"
   ]
  },
  {
   "cell_type": "code",
   "execution_count": null,
   "metadata": {},
   "outputs": [],
   "source": []
  },
  {
   "cell_type": "markdown",
   "metadata": {},
   "source": [
    "## 1.3 Runge Kutta metoden\n",
    "\n",
    "Implementerer fjerde ordens Runge Kutta.\n"
   ]
  },
  {
   "cell_type": "code",
   "execution_count": 1,
   "metadata": {},
   "outputs": [],
   "source": [
    "def rk4_step(f, t, w, h):\n",
    "    '''\n",
    "    Tar inn en vektor-funksjon på formen f(t, _w_) = _y'_ = _y_ + _g(x)_, med nåværende tid (t) og \n",
    "    tilstand (w), og regner ut ett Runge Kutta steg.\n",
    "    Inn:\n",
    "        f: s-array, som beskriver et system av førsteordens diff-ligninger.\n",
    "        t: float, nåvernde tid\n",
    "        w: s-array, som beskriver systemet\n",
    "    Ut:\n",
    "        t_new: neste tidssteg (t+h)\n",
    "        w_new: systemet etter ett beregnet tidssteg    \n",
    "    '''\n",
    "    k_1 = f(t, w)\n",
    "    k_2 = f(t + 0.5*h, w + h*k_1*0.5)\n",
    "    k_3 = f(t + 0.5*h, w + h*k_2*0.5)\n",
    "    k_4 = f(t + 1.0*h, w + h*k_3)\n",
    "\n",
    "    w_new = w + h*(1/6) * (k_1 + 2*k_2 + 2*k_3 + k_4)\n",
    "    t_new = t + h\n",
    "\n",
    "    return t_new, w_new\n",
    "\n",
    "\n"
   ]
  },
  {
   "cell_type": "markdown",
   "metadata": {},
   "source": [
    "# X.0 Conclusion\n",
    "\n",
    "Lorem Ipsum..."
   ]
  },
  {
   "cell_type": "markdown",
   "metadata": {},
   "source": []
  },
  {
   "cell_type": "markdown",
   "metadata": {},
   "source": []
  }
 ],
 "metadata": {
  "interpreter": {
   "hash": "363397c9a7880997dc2e970febe98a88b19649a9f2d602ddb36834421663b77d"
  },
  "kernelspec": {
   "display_name": "Python 3.10.2 64-bit (windows store)",
   "language": "python",
   "name": "python3"
  },
  "language_info": {
   "codemirror_mode": {
    "name": "ipython",
    "version": 3
   },
   "file_extension": ".py",
   "mimetype": "text/x-python",
   "name": "python",
   "nbconvert_exporter": "python",
   "pygments_lexer": "ipython3",
   "version": "3.10.2"
  }
 },
 "nbformat": 4,
 "nbformat_minor": 2
}
