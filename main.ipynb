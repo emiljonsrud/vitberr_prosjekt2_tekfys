{
 "cells": [
  {
   "cell_type": "markdown",
   "metadata": {},
   "source": [
    "### TMA4320 - Project 2: Physics\n",
    "\n",
    "\n",
    "# 0.0 Motivation"
   ]
  },
  {
   "cell_type": "code",
   "execution_count": 1,
   "metadata": {},
   "outputs": [],
   "source": [
    "# Importing libraries\n",
    "import numpy as np\n",
    "import matplotlib.pyplot as plt"
   ]
  },
  {
   "cell_type": "code",
   "execution_count": 2,
   "metadata": {},
   "outputs": [],
   "source": [
    "# Parameters\n",
    "sigma_0 = 1000 # kg/m^2\n",
    "sigma = 500 # kg/m^2\n",
    "R = 10 # m, Radius\n",
    "A_s = 0.5*np.pi*(R**2) # Cross-section of boat\n",
    "g = 9.81 # m/s^2"
   ]
  },
  {
   "cell_type": "markdown",
   "metadata": {},
   "source": [
    "## 1.? Tilstandsfunksjonen\n",
    "\n",
    "For å kunne løse en høyere ordens differensialligning nummerisk, er det nyttig å bryte den ned til et system av førsteordens differensialligninger. Dette systemet beskriver tilstanden til det fysiske systemet.\n",
    "I vårt tilfelle ønsker vi å beskrive rotasjonsvinkelen $\\theta$ til skipet, om massesenteret $C$. Og vinkelhastigheten $\\omega = \\frac{d\\theta}{dt}$.\n",
    "\n",
    "Vi har følgende ligning: \n",
    "$$\n",
    "    \\sum \\tau = I_C \\frac{d\\omega}{dt}\n",
    "$$\n",
    "der $\\tau$ besriver driemomentet om massesenteret, og $I_C$ er skipets rotasjonstreghet.\n",
    "\n",
    "Ved å introdusere vektoren $\\vec{w} = ....$ ..\n",
    "\n",
    "..\n",
    "\n",
    "\n",
    "Kommer vi frem til \n",
    "$$\n",
    "    f(t, \\vec{w}) =   \\begin{bmatrix}\n",
    "                            \\omega(t) \\\\\n",
    "                            \\sum \\tau / I_C\n",
    "                        \\end{bmatrix}\n",
    "$$\n",
    "\n",
    "Vi må derfor definere alle dreiemomentfunksjonene, dette blir gjort i følgende celle:"
   ]
  },
  {
   "cell_type": "code",
   "execution_count": null,
   "metadata": {},
   "outputs": [],
   "source": [
    "tau_B = lambda theta: -F_B*h*np.sin(theta)\n",
    "tau_f = lambda theta: \n",
    "## ... gjør resten senere"
   ]
  },
  {
   "cell_type": "markdown",
   "metadata": {},
   "source": [
    "## 1.3 Runge Kutta metoden\n",
    "\n",
    "Implementerer fjerde ordens Runge Kutta.\n"
   ]
  },
  {
   "cell_type": "code",
   "execution_count": 1,
   "metadata": {},
   "outputs": [],
   "source": [
    "def rk4_step(f, t, w, h):\n",
    "    '''\n",
    "    Tar inn en vektor-funksjon på formen f(t, _w_) = _y'_ = _y_ + _g(x)_, med nåværende tid (t) og \n",
    "    tilstand (w), og regner ut ett Runge Kutta steg.\n",
    "    Inn:\n",
    "        f: s-array, som beskriver et system av førsteordens diff-ligninger.\n",
    "        t: float, nåvernde tid\n",
    "        w: s-array, som beskriver systemet\n",
    "    Ut:\n",
    "        t_new: neste tidssteg (t+h)\n",
    "        w_new: systemet etter ett beregnet tidssteg    \n",
    "    '''\n",
    "    k_1 = f(t, w)\n",
    "    k_2 = f(t + 0.5*h, w + h*k_1*0.5)\n",
    "    k_3 = f(t + 0.5*h, w + h*k_2*0.5)\n",
    "    k_4 = f(t + 1.0*h, w + h*k_3)\n",
    "\n",
    "    w_new = w + h*(1/6) * (k_1 + 2*k_2 + 2*k_3 + k_4)\n",
    "    t_new = t + h\n",
    "\n",
    "    return t_new, w_new\n",
    "\n",
    "\n"
   ]
  },
  {
   "cell_type": "markdown",
   "metadata": {},
   "source": [
    "# X.0 Conclusion\n",
    "\n",
    "Lorem Ipsum..."
   ]
  },
  {
   "cell_type": "markdown",
   "metadata": {},
   "source": []
  },
  {
   "cell_type": "markdown",
   "metadata": {},
   "source": []
  }
 ],
 "metadata": {
  "interpreter": {
   "hash": "363397c9a7880997dc2e970febe98a88b19649a9f2d602ddb36834421663b77d"
  },
  "kernelspec": {
   "display_name": "Python 3.10.2 64-bit (windows store)",
   "language": "python",
   "name": "python3"
  },
  "language_info": {
   "codemirror_mode": {
    "name": "ipython",
    "version": 3
   },
   "file_extension": ".py",
   "mimetype": "text/x-python",
   "name": "python",
   "nbconvert_exporter": "python",
   "pygments_lexer": "ipython3",
   "version": "3.10.2"
  }
 },
 "nbformat": 4,
 "nbformat_minor": 2
}
